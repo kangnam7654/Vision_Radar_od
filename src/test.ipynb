{
 "cells": [
  {
   "cell_type": "code",
   "execution_count": 1,
   "metadata": {},
   "outputs": [],
   "source": [
    "import os\n",
    "import glob\n",
    "import cv2\n",
    "from pathlib import Path\n",
    "import shutil"
   ]
  },
  {
   "cell_type": "code",
   "execution_count": 2,
   "metadata": {},
   "outputs": [
    {
     "data": {
      "text/plain": [
       "'d:\\\\project\\\\Vision_yolov5_radar_od\\\\src'"
      ]
     },
     "execution_count": 2,
     "metadata": {},
     "output_type": "execute_result"
    }
   ],
   "source": [
    "cd = os.getcwd()\n",
    "cd"
   ]
  },
  {
   "cell_type": "code",
   "execution_count": 3,
   "metadata": {},
   "outputs": [
    {
     "name": "stdout",
     "output_type": "stream",
     "text": [
      "d:\\project\\Vision_yolov5_radar_od\\src\\data\\origin\\old_radar\\extract_frame_1026\\extract_frame0\\000002.png\n",
      "d:\\project\\Vision_yolov5_radar_od\\src\\data\\origin\\old_radar\\extract_frame_1026\\extract_frame0\\000002.json\n"
     ]
    }
   ],
   "source": [
    "data_old = glob.glob(os.path.join(cd, 'data', 'origin', 'old_radar', '**', '*.png'), recursive=True)\n",
    "data_old_json = glob.glob(os.path.join(cd, 'data', 'origin', 'old_radar', '**', '*.json'), recursive=True)\n",
    "\n",
    "print(data_old[0])\n",
    "print(data_old_json[0])"
   ]
  },
  {
   "cell_type": "code",
   "execution_count": 4,
   "metadata": {},
   "outputs": [
    {
     "name": "stdout",
     "output_type": "stream",
     "text": [
      "d:\\project\\Vision_yolov5_radar_od\\src\\data\\origin\\old_radar\\extract_frame_1026\\extract_frame0\\000002\n",
      "d:\\project\\Vision_yolov5_radar_od\\src\\data\\origin\\old_radar\\extract_frame_1026\\extract_frame0\\000002\n"
     ]
    }
   ],
   "source": [
    "image_files = list(map(lambda x: x.split('.')[0], data_old))\n",
    "json_files = list(map(lambda x: x.split('.')[0], data_old_json))\n",
    "print(image_files[0])\n",
    "print(json_files[0])"
   ]
  },
  {
   "cell_type": "code",
   "execution_count": 5,
   "metadata": {},
   "outputs": [],
   "source": [
    "no_json = []\n",
    "no_image = []\n",
    "for image_file, json_file in zip(image_files, json_files):\n",
    "    if image_file not in json_files:\n",
    "        no_json.append(str(Path(image_file).with_suffix('.png')))\n",
    "    if json_file not in image_files:\n",
    "        no_image.append(str(Path(json_file).with_suffix('.json')))"
   ]
  },
  {
   "cell_type": "code",
   "execution_count": 6,
   "metadata": {},
   "outputs": [],
   "source": [
    "if len(no_image) != 0:\n",
    "    map(lambda x: os.remove(x), no_image)\n",
    "if len(no_json) != 0:\n",
    "    map(lambda x: os.remove(x), no_json)"
   ]
  },
  {
   "cell_type": "code",
   "execution_count": 7,
   "metadata": {},
   "outputs": [],
   "source": [
    "save_folder = os.path.join(cd, 'data', 'radar2')\n",
    "os.makedirs(save_folder, exist_ok=True)\n",
    "for i, file in enumerate(image_files):\n",
    "    file_name = str(i).zfill(6)\n",
    "    img = Path(file).with_suffix('.png')\n",
    "    json = Path(file).with_suffix('.json')\n",
    "    shutil.copy2(img, os.path.join(save_folder, f'{file_name}.png'))\n",
    "    shutil.copy2(json, os.path.join(save_folder, f'{file_name}.json'))"
   ]
  },
  {
   "cell_type": "code",
   "execution_count": null,
   "metadata": {},
   "outputs": [],
   "source": []
  },
  {
   "cell_type": "code",
   "execution_count": null,
   "metadata": {},
   "outputs": [],
   "source": []
  }
 ],
 "metadata": {
  "kernelspec": {
   "display_name": "Python 3.9.12 ('radar_od_39')",
   "language": "python",
   "name": "python3"
  },
  "language_info": {
   "codemirror_mode": {
    "name": "ipython",
    "version": 3
   },
   "file_extension": ".py",
   "mimetype": "text/x-python",
   "name": "python",
   "nbconvert_exporter": "python",
   "pygments_lexer": "ipython3",
   "version": "3.9.12"
  },
  "orig_nbformat": 4,
  "vscode": {
   "interpreter": {
    "hash": "3e3be4ca4d278c04d117a21e28099581ef56b23ccd8b3c6b5a2f7c332a498827"
   }
  }
 },
 "nbformat": 4,
 "nbformat_minor": 2
}
